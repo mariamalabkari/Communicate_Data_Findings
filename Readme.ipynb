{
 "cells": [
  {
   "cell_type": "markdown",
   "metadata": {},
   "source": [
    "<br/><br/><br/>\n",
    "# Video Game Sales Data Exploration\n",
    "\n",
    "<br/><br/>\n",
    "\n",
    "## Dataset\n",
    "\n",
    "The Video Game Sales dataset collected from Kaggle website. The dataset consistes of information about more than 10000 Video Games, it contains 11 columns and 16291 rows. Including, name, year, genre, publisher, and global sales. The dataset contains both qualitative and quantitative types of data.\n",
    "\n",
    "Dataset (Video Game Sales)\n",
    "https://www.kaggle.com/gregorut/videogamesales\n",
    "\n",
    "<br/>\n",
    "\n",
    "## Summary of Findings\n",
    "\n",
    "In the exploration, I found that there was a strong relationship between most of the variables. For instance, the year variable has an impact on all the other variables including, global sales, other sales, EU sales, NA sales, JP sales. The result of this may be the improvement of the technology year after year. And what confirms this is that Europe, Japan, and North America sales were all increasing together along with incease the year. Also, I observed that the number of video games started to increase year by year. However, in 2009 the number of videos games released started to decrease.DS and PS2 platforms have the highest number of video games released among all other platforms. In addition, the action video games has the highest number of released and here are only few puzzle video games.\n",
    "\n",
    "<br/>\n",
    "\n",
    "## Key Insights for Presentation\n",
    "\n",
    "In the precentation, I focused on show the answer of the most common questions asked by people which include, the number of video games released, the platform with the highest releases, the genre with higher releases, and number of videos released in each genre among all the years. \n",
    "\n",
    "<br/><br/><br/>"
   ]
  },
  {
   "cell_type": "code",
   "execution_count": null,
   "metadata": {},
   "outputs": [],
   "source": []
  }
 ],
 "metadata": {
  "kernelspec": {
   "display_name": "Python 3",
   "language": "python",
   "name": "python3"
  },
  "language_info": {
   "codemirror_mode": {
    "name": "ipython",
    "version": 3
   },
   "file_extension": ".py",
   "mimetype": "text/x-python",
   "name": "python",
   "nbconvert_exporter": "python",
   "pygments_lexer": "ipython3",
   "version": "3.7.9"
  }
 },
 "nbformat": 4,
 "nbformat_minor": 4
}
